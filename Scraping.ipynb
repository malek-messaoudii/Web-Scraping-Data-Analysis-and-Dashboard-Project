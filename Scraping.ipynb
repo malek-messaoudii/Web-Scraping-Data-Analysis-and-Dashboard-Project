{
  "nbformat": 4,
  "nbformat_minor": 0,
  "metadata": {
    "colab": {
      "provenance": []
    },
    "kernelspec": {
      "name": "python3",
      "display_name": "Python 3"
    },
    "language_info": {
      "name": "python"
    }
  },
  "cells": [
    {
      "cell_type": "code",
      "execution_count": null,
      "metadata": {
        "colab": {
          "base_uri": "https://localhost:8080/"
        },
        "id": "RRQEsML3zn1K",
        "outputId": "23100bd8-db79-4bfe-ec08-ef8af3992044"
      },
      "outputs": [
        {
          "output_type": "stream",
          "name": "stdout",
          "text": [
            "Mounted at /content/drive\n"
          ]
        }
      ],
      "source": [
        "from google.colab import drive\n",
        "drive.mount('/content/drive')"
      ]
    },
    {
      "cell_type": "code",
      "source": [
        "import pandas as pd\n",
        "\n",
        "file_path = \"/content/drive/MyDrive/barbechli.xlsx\"\n",
        "df = pd.read_excel(file_path)\n",
        "\n",
        "df_cleaned = df.drop_duplicates(keep=False)\n",
        "\n",
        "removed_rows = len(df) - len(df_cleaned)\n",
        "print(f\"Nombre de lignes supprimées : {removed_rows}\")\n",
        "\n",
        "df_cleaned.to_excel(\"/content/drive/MyDrive/fichier_sans_doublons.xlsx\", index=False)\n",
        "print(\"Les doublons ont été supprimés et le nouveau fichier a été enregistré sous 'fichier_sans_doublons.xlsx'.\")"
      ],
      "metadata": {
        "colab": {
          "base_uri": "https://localhost:8080/"
        },
        "id": "OQA8vf88jPv9",
        "outputId": "b4bac873-715f-4882-e6bd-4e71833bab4e"
      },
      "execution_count": null,
      "outputs": [
        {
          "output_type": "stream",
          "name": "stdout",
          "text": [
            "Nombre de lignes supprimées : 712\n",
            "Les doublons ont été supprimés et le nouveau fichier a été enregistré sous 'fichier_sans_doublons.xlsx'.\n"
          ]
        }
      ]
    },
    {
      "cell_type": "code",
      "source": [
        "import pandas as pd\n",
        "import re\n",
        "\n",
        "input_excel = '/content/drive/MyDrive/fichier_sans_doublons.xlsx'\n",
        "output_excel = '/content/drive/MyDrive/barbechli2.xlsx'\n",
        "\n",
        "try:\n",
        "    df = pd.read_excel(input_excel)\n",
        "    print(\"Fichier Excel lu avec succès.\")\n",
        "except Exception as e:\n",
        "    raise ValueError(f\"Erreur lors de la lecture du fichier Excel : {e}\")\n",
        "\n",
        "def extract_entity(url):\n",
        "    if pd.isna(url):\n",
        "        return None\n",
        "    match = re.search(r'logo-([a-zA-Z0-9_]+)\\.jpg', url)\n",
        "    if match:\n",
        "        return match.group(1).replace('_', ' ').title()\n",
        "    return None\n",
        "\n",
        "df['Company'] = df['Company-path'].apply(extract_entity)\n",
        "\n",
        "def extract_characteristics(text):\n",
        "    if pd.isna(text):\n",
        "        return {\n",
        "            'Type': None,\n",
        "            'Model': None,\n",
        "            'Processor Brand': None,\n",
        "            'Processor': None,\n",
        "            'RAM': None,\n",
        "            'Storage': None,\n",
        "            'GPU': None,\n",
        "            'Screen': None,\n",
        "            'Color': None,\n",
        "            'OS': None\n",
        "        }\n",
        "\n",
        "    characteristics = {\n",
        "        'Type': None,\n",
        "        'Model': None,\n",
        "        'Processor Brand': None,\n",
        "        'Processor': None,\n",
        "        'RAM': None,\n",
        "        'Storage': None,\n",
        "        'GPU': None,\n",
        "        'Screen': None,\n",
        "        'Color': None,\n",
        "        'OS': None\n",
        "    }\n",
        "\n",
        "    # Extraire le type (PC Portable, Écran Gaming, etc.)\n",
        "    type_match = re.search(r'(PC Portable|Écran Gaming|Pc Portable|PC PORTABLE|Ecran Gaming|Ecran|Portable|Moniteur)', text, re.IGNORECASE)\n",
        "    if type_match:\n",
        "        characteristics['Type'] = type_match.group(1)\n",
        "\n",
        "    # Extraire le modèle (tout ce qui suit le type jusqu'au processeur ou à la RAM)\n",
        "    model_match = re.search(r'(?:PC Portable|Écran Gaming|Pc Portable|PC PORTABLE|Ecran Gaming|Ecran|Portable|Moniteur)\\s+(.*?)\\s+(Intel|AMD|Apple|Celeron|Ryzen|N\\d+|N\\d+-\\d+[a-zA-Z]*|Ultra \\d+|M\\d+|R\\d+|\\d+\\s*Go)', text, re.IGNORECASE)\n",
        "    if model_match:\n",
        "        characteristics['Model'] = model_match.group(1).strip()\n",
        "\n",
        "    # Extraire la marque du processeur (Intel, AMD, etc.)\n",
        "    processor_brand_match = re.search(r'(Intel|AMD|Apple|Celeron|Ryzen|N\\d+|N\\d+-\\d+[a-zA-Z]*|Ultra \\d+|M\\d+|R\\d+)', text, re.IGNORECASE)\n",
        "    if processor_brand_match:\n",
        "        characteristics['Processor Brand'] = processor_brand_match.group(1)\n",
        "\n",
        "    # Extraire le processeur (iX, Ryzen X, Celeron X, etc.)\n",
        "    processor_match = re.search(r'([iI]\\d+|Ryzen \\d+|Celeron \\w+|N\\d+|N\\d+-\\d+[a-zA-Z]*|Ultra \\d+|M\\d+|R\\d+)', text)\n",
        "    if processor_match:\n",
        "        characteristics['Processor'] = processor_match.group(1)\n",
        "\n",
        "    # Extraire la RAM (X Go)\n",
        "    ram_match = re.search(r'(\\d+\\s*Go)', text, re.IGNORECASE)\n",
        "    if ram_match:\n",
        "        characteristics['RAM'] = ram_match.group(1)\n",
        "\n",
        "    # Extraire le stockage (X Go SSD, X TB SSD, etc.)\n",
        "    storage_match = re.search(r'(\\d+\\s*Go\\s*SSD|\\d+\\s*TB\\s*SSD|\\d+\\s*Go|\\d+\\s*TB|\\d+\\s*Go\\s*HDD)', text, re.IGNORECASE)\n",
        "    if storage_match:\n",
        "        characteristics['Storage'] = storage_match.group(1)\n",
        "\n",
        "    # Extraire le GPU (RTX X, GTX X)\n",
        "    gpu_match = re.search(r'(RTX\\s*\\d+|GTX\\s*\\d+)', text, re.IGNORECASE)\n",
        "    if gpu_match:\n",
        "        characteristics['GPU'] = gpu_match.group(1)\n",
        "\n",
        "    # Extraire les informations sur l'écran (taille, résolution, etc.)\n",
        "    screen_match = re.search(r'(\\d+[\"”]|\\d+\\s*cm|\\d+\\s*inch)', text, re.IGNORECASE)\n",
        "    if screen_match:\n",
        "        characteristics['Screen'] = screen_match.group(1)\n",
        "\n",
        "    # Extraire la couleur (Gris, Silver, Bleu, etc.)\n",
        "    color_match = re.search(r'(Gris|Silver|Bleu|Noir|Gold|Rose|Rouge|Vert)', text, re.IGNORECASE)\n",
        "    if color_match:\n",
        "        characteristics['Color'] = color_match.group(1)\n",
        "\n",
        "    # Extraire le système d'exploitation (Windows 11, etc.)\n",
        "    os_match = re.search(r'(Windows\\s*\\d+|MacOS|Linux)', text, re.IGNORECASE)\n",
        "    if os_match:\n",
        "        characteristics['OS'] = os_match.group(1)\n",
        "\n",
        "    return characteristics\n",
        "\n",
        "# Appliquer la fonction pour extraire les caractéristiques\n",
        "characteristics = df['Description'].apply(extract_characteristics).apply(pd.Series)\n",
        "\n",
        "# Concaténer les caractéristiques avec le DataFrame original\n",
        "df = pd.concat([df, characteristics], axis=1)\n",
        "\n",
        "# Enregistrer le DataFrame transformé dans un nouveau fichier Excel\n",
        "try:\n",
        "    df.to_excel(output_excel, index=False)  # Enregistrer en tant que fichier Excel\n",
        "    print(f\"Le fichier traité a été enregistré sous {output_excel}\")\n",
        "except Exception as e:\n",
        "    raise ValueError(f\"Erreur lors de l'enregistrement du fichier Excel : {e}\")"
      ],
      "metadata": {
        "colab": {
          "base_uri": "https://localhost:8080/"
        },
        "id": "qSrdPfKBzyow",
        "outputId": "8c9df6d1-531e-4f3c-939a-4d10665cc356"
      },
      "execution_count": null,
      "outputs": [
        {
          "output_type": "stream",
          "name": "stdout",
          "text": [
            "Fichier Excel lu avec succès.\n",
            "Le fichier traité a été enregistré sous /content/drive/MyDrive/barbechli2.xlsx\n"
          ]
        }
      ]
    },
    {
      "cell_type": "code",
      "source": [
        "import pandas as pd\n",
        "\n",
        "# Chemin du fichier\n",
        "file_path = \"/content/drive/MyDrive/barbechli2.xlsx\"\n",
        "\n",
        "# Charger le fichier Excel\n",
        "df = pd.read_excel(file_path)\n",
        "\n",
        "# Modifier la colonne 'entity' en supprimant \"Online\" si \"Technopro Online\" est trouvé\n",
        "df[\"Company\"] = df[\"Company\"].replace(\"Technopro Online\", \"Technopro\")\n",
        "\n",
        "df.to_excel(file_path, index=False)\n",
        "\n",
        "print(\"Les modifications ont été appliquées directement dans 'barbechli2.xlsx'.\")"
      ],
      "metadata": {
        "colab": {
          "base_uri": "https://localhost:8080/"
        },
        "id": "vhhIjHbVmcKG",
        "outputId": "af6ce111-0e71-4d1e-b11d-9270aa011945"
      },
      "execution_count": null,
      "outputs": [
        {
          "output_type": "stream",
          "name": "stdout",
          "text": [
            "Les modifications ont été appliquées directement dans 'barbechli2.xlsx'.\n"
          ]
        }
      ]
    },
    {
      "cell_type": "code",
      "source": [
        "import pandas as pd\n",
        "\n",
        "# 📌 Chemin du fichier d'entrée (Excel) et sortie (Excel)\n",
        "input_file = \"/content/drive/MyDrive/barbechli2.xlsx\"\n",
        "\n",
        "# ✅ Charger le fichier Excel\n",
        "df = pd.read_excel(input_file)\n",
        "\n",
        "# ✅ Nettoyage des colonnes Price et Price 2 (suppression des espaces et conversion en float)\n",
        "df[\"Price\"] = df[\"Price\"].astype(str).str.replace(\" \", \"\").replace(\"\", None).astype(float)\n",
        "df[\"Price 2\"] = df[\"Price 2\"].astype(str).str.replace(\" \", \"\").replace(\"\", None).astype(float)\n",
        "\n",
        "# ✅ Nettoyage de Discount percentage (suppression de \"%\")\n",
        "df[\"Discount percentage\"] = df[\"Discount percentage\"].astype(str).str.replace(\"%\", \"\").replace(\"\", None).astype(float)\n",
        "\n",
        "# ✅ Sauvegarde en fichier Excel\n",
        "df.to_excel(input_file, index=False)\n",
        "\n",
        "print(f\"✅ Fichier nettoyé enregistré dans : {input_file}\")"
      ],
      "metadata": {
        "colab": {
          "base_uri": "https://localhost:8080/"
        },
        "id": "Ls69-aHROO1r",
        "outputId": "3de57b97-5596-4e9d-a41f-111ecfce1aa5"
      },
      "execution_count": null,
      "outputs": [
        {
          "output_type": "stream",
          "name": "stdout",
          "text": [
            "✅ Fichier nettoyé enregistré dans : /content/drive/MyDrive/barbechli2.xlsx\n"
          ]
        }
      ]
    },
    {
      "cell_type": "code",
      "source": [
        "import pandas as pd\n",
        "\n",
        "# 📌 Chemin du fichier d'entrée (Excel) et sortie (CSV)\n",
        "input_file = \"/content/drive/MyDrive/barbechli2.xlsx\"  # Fichier Excel en entrée\n",
        "output_csv = \"/content/drive/MyDrive/barbechli2.csv\"  # Fichier CSV en sortie\n",
        "\n",
        "# ✅ Charger le fichier Excel\n",
        "df = pd.read_excel(input_file)\n",
        "\n",
        "# ✅ Sauvegarder en fichier CSV\n",
        "df.to_csv(output_csv, index=False)\n",
        "\n",
        "print(f\"✅ Fichier Excel converti et enregistré dans : {output_csv}\")"
      ],
      "metadata": {
        "colab": {
          "base_uri": "https://localhost:8080/"
        },
        "id": "dAGzUPmyYZ87",
        "outputId": "441b08cb-30db-460c-c634-ac58fe93275e"
      },
      "execution_count": null,
      "outputs": [
        {
          "output_type": "stream",
          "name": "stdout",
          "text": [
            "✅ Fichier Excel converti et enregistré dans : /content/drive/MyDrive/barbechli2.csv\n"
          ]
        }
      ]
    },
    {
      "cell_type": "code",
      "source": [
        "pip install psycopg2"
      ],
      "metadata": {
        "colab": {
          "base_uri": "https://localhost:8080/"
        },
        "id": "FEUOi3dGbuba",
        "outputId": "ec8e305d-34ea-4a2d-b8f5-37148027af76"
      },
      "execution_count": null,
      "outputs": [
        {
          "output_type": "stream",
          "name": "stdout",
          "text": [
            "Requirement already satisfied: psycopg2 in /usr/local/lib/python3.11/dist-packages (2.9.10)\n"
          ]
        }
      ]
    },
    {
      "cell_type": "code",
      "source": [
        "pip freeze > requeriments.txt"
      ],
      "metadata": {
        "id": "kQgSsGWecPjG"
      },
      "execution_count": null,
      "outputs": []
    },
    {
      "cell_type": "code",
      "source": [
        "import pandas as pd\n",
        "\n",
        "# Lire le fichier CSV\n",
        "df = pd.read_csv(r\"/content/drive/MyDrive/barbechli2.csv\")\n",
        "\n",
        "# Supprimer les doublons basés sur la colonne 'id'\n",
        "df = df.drop_duplicates(subset=['ID'])\n",
        "\n",
        "# Sauvegarder le fichier nettoyé\n",
        "df.to_csv(r\"/content/drive/MyDrive/barbechli2.csv\", index=False)"
      ],
      "metadata": {
        "id": "MkjkrqvFTkJh"
      },
      "execution_count": null,
      "outputs": []
    },
    {
      "cell_type": "code",
      "source": [
        "import psycopg2\n",
        "import pandas as pd\n",
        "\n",
        "# Chemin du fichier CSV\n",
        "csv_file = r\"C:\\Users\\messa\\OneDrive\\Documents\\Scrap\\barbechli2.csv\"\n",
        "\n",
        "# Connexion à PostgreSQL\n",
        "conn = psycopg2.connect(\n",
        "    dbname=\"Barbechli\",\n",
        "    user=\"postgres\",\n",
        "    password=\"7y4bH5Cs\",\n",
        "    host=\"localhost\",\n",
        "    port=\"5432\"\n",
        ")\n",
        "cursor = conn.cursor()\n",
        "\n",
        "# Lire le fichier CSV avec pandas\n",
        "df = pd.read_csv(csv_file)\n",
        "\n",
        "# Insérer les données dans la table\n",
        "for index, row in df.iterrows():\n",
        "    cursor.execute(\"\"\"\n",
        "        INSERT INTO products (\n",
        "            company_path, description, price, price_2, currency, discount_percentage,\n",
        "            company, type, model, processor_brand, processor, ram, storage, gpu, screen, color, os\n",
        "        ) VALUES (%s, %s, %s, %s, %s, %s, %s, %s, %s, %s, %s, %s, %s, %s, %s, %s, %s);\n",
        "    \"\"\", tuple(row))\n",
        "\n",
        "# Valider les changements et fermer la connexion\n",
        "conn.commit()\n",
        "cursor.close()\n",
        "conn.close()\n",
        "\n",
        "print(\"✅ Données CSV importées avec succès dans PostgreSQL.\")"
      ],
      "metadata": {
        "colab": {
          "base_uri": "https://localhost:8080/",
          "height": 384
        },
        "id": "F4B-677UaY2C",
        "outputId": "8434fca4-1f54-4620-da22-9e40e37f9377"
      },
      "execution_count": null,
      "outputs": [
        {
          "output_type": "error",
          "ename": "OperationalError",
          "evalue": "connection to server at \"localhost\" (127.0.0.1), port 5432 failed: Connection refused\n\tIs the server running on that host and accepting TCP/IP connections?\nconnection to server at \"localhost\" (::1), port 5432 failed: Cannot assign requested address\n\tIs the server running on that host and accepting TCP/IP connections?\n",
          "traceback": [
            "\u001b[0;31m---------------------------------------------------------------------------\u001b[0m",
            "\u001b[0;31mOperationalError\u001b[0m                          Traceback (most recent call last)",
            "\u001b[0;32m<ipython-input-24-2594474bf92b>\u001b[0m in \u001b[0;36m<cell line: 0>\u001b[0;34m()\u001b[0m\n\u001b[1;32m      6\u001b[0m \u001b[0;34m\u001b[0m\u001b[0m\n\u001b[1;32m      7\u001b[0m \u001b[0;31m# Connexion à PostgreSQL\u001b[0m\u001b[0;34m\u001b[0m\u001b[0;34m\u001b[0m\u001b[0m\n\u001b[0;32m----> 8\u001b[0;31m conn = psycopg2.connect(\n\u001b[0m\u001b[1;32m      9\u001b[0m     \u001b[0mdbname\u001b[0m\u001b[0;34m=\u001b[0m\u001b[0;34m\"Barbechli\"\u001b[0m\u001b[0;34m,\u001b[0m\u001b[0;34m\u001b[0m\u001b[0;34m\u001b[0m\u001b[0m\n\u001b[1;32m     10\u001b[0m     \u001b[0muser\u001b[0m\u001b[0;34m=\u001b[0m\u001b[0;34m\"postgres\"\u001b[0m\u001b[0;34m,\u001b[0m\u001b[0;34m\u001b[0m\u001b[0;34m\u001b[0m\u001b[0m\n",
            "\u001b[0;32m/usr/local/lib/python3.11/dist-packages/psycopg2/__init__.py\u001b[0m in \u001b[0;36mconnect\u001b[0;34m(dsn, connection_factory, cursor_factory, **kwargs)\u001b[0m\n\u001b[1;32m    120\u001b[0m \u001b[0;34m\u001b[0m\u001b[0m\n\u001b[1;32m    121\u001b[0m     \u001b[0mdsn\u001b[0m \u001b[0;34m=\u001b[0m \u001b[0m_ext\u001b[0m\u001b[0;34m.\u001b[0m\u001b[0mmake_dsn\u001b[0m\u001b[0;34m(\u001b[0m\u001b[0mdsn\u001b[0m\u001b[0;34m,\u001b[0m \u001b[0;34m**\u001b[0m\u001b[0mkwargs\u001b[0m\u001b[0;34m)\u001b[0m\u001b[0;34m\u001b[0m\u001b[0;34m\u001b[0m\u001b[0m\n\u001b[0;32m--> 122\u001b[0;31m     \u001b[0mconn\u001b[0m \u001b[0;34m=\u001b[0m \u001b[0m_connect\u001b[0m\u001b[0;34m(\u001b[0m\u001b[0mdsn\u001b[0m\u001b[0;34m,\u001b[0m \u001b[0mconnection_factory\u001b[0m\u001b[0;34m=\u001b[0m\u001b[0mconnection_factory\u001b[0m\u001b[0;34m,\u001b[0m \u001b[0;34m**\u001b[0m\u001b[0mkwasync\u001b[0m\u001b[0;34m)\u001b[0m\u001b[0;34m\u001b[0m\u001b[0;34m\u001b[0m\u001b[0m\n\u001b[0m\u001b[1;32m    123\u001b[0m     \u001b[0;32mif\u001b[0m \u001b[0mcursor_factory\u001b[0m \u001b[0;32mis\u001b[0m \u001b[0;32mnot\u001b[0m \u001b[0;32mNone\u001b[0m\u001b[0;34m:\u001b[0m\u001b[0;34m\u001b[0m\u001b[0;34m\u001b[0m\u001b[0m\n\u001b[1;32m    124\u001b[0m         \u001b[0mconn\u001b[0m\u001b[0;34m.\u001b[0m\u001b[0mcursor_factory\u001b[0m \u001b[0;34m=\u001b[0m \u001b[0mcursor_factory\u001b[0m\u001b[0;34m\u001b[0m\u001b[0;34m\u001b[0m\u001b[0m\n",
            "\u001b[0;31mOperationalError\u001b[0m: connection to server at \"localhost\" (127.0.0.1), port 5432 failed: Connection refused\n\tIs the server running on that host and accepting TCP/IP connections?\nconnection to server at \"localhost\" (::1), port 5432 failed: Cannot assign requested address\n\tIs the server running on that host and accepting TCP/IP connections?\n"
          ]
        }
      ]
    }
  ]
}